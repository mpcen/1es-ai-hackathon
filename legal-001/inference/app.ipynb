{
 "cells": [
  {
   "cell_type": "code",
   "execution_count": 2,
   "metadata": {},
   "outputs": [
    {
     "name": "stdout",
     "output_type": "stream",
     "text": [
      "Requirement already satisfied: transformers in /home/mpcen/workspace/projects/web2/1es-hackathon/.venv/lib/python3.9/site-packages (4.31.0)\n",
      "Requirement already satisfied: filelock in /home/mpcen/workspace/projects/web2/1es-hackathon/.venv/lib/python3.9/site-packages (from transformers) (3.12.2)\n",
      "Requirement already satisfied: huggingface-hub<1.0,>=0.14.1 in /home/mpcen/workspace/projects/web2/1es-hackathon/.venv/lib/python3.9/site-packages (from transformers) (0.16.4)\n",
      "Requirement already satisfied: numpy>=1.17 in /home/mpcen/workspace/projects/web2/1es-hackathon/.venv/lib/python3.9/site-packages (from transformers) (1.25.1)\n",
      "Requirement already satisfied: packaging>=20.0 in /home/mpcen/workspace/projects/web2/1es-hackathon/.venv/lib/python3.9/site-packages (from transformers) (23.1)\n",
      "Requirement already satisfied: pyyaml>=5.1 in /home/mpcen/workspace/projects/web2/1es-hackathon/.venv/lib/python3.9/site-packages (from transformers) (6.0.1)\n",
      "Requirement already satisfied: regex!=2019.12.17 in /home/mpcen/workspace/projects/web2/1es-hackathon/.venv/lib/python3.9/site-packages (from transformers) (2023.6.3)\n",
      "Requirement already satisfied: requests in /home/mpcen/workspace/projects/web2/1es-hackathon/.venv/lib/python3.9/site-packages (from transformers) (2.31.0)\n",
      "Requirement already satisfied: tokenizers!=0.11.3,<0.14,>=0.11.1 in /home/mpcen/workspace/projects/web2/1es-hackathon/.venv/lib/python3.9/site-packages (from transformers) (0.13.3)\n",
      "Requirement already satisfied: safetensors>=0.3.1 in /home/mpcen/workspace/projects/web2/1es-hackathon/.venv/lib/python3.9/site-packages (from transformers) (0.3.1)\n",
      "Requirement already satisfied: tqdm>=4.27 in /home/mpcen/workspace/projects/web2/1es-hackathon/.venv/lib/python3.9/site-packages (from transformers) (4.65.0)\n",
      "Requirement already satisfied: fsspec in /home/mpcen/workspace/projects/web2/1es-hackathon/.venv/lib/python3.9/site-packages (from huggingface-hub<1.0,>=0.14.1->transformers) (2023.6.0)\n",
      "Requirement already satisfied: typing-extensions>=3.7.4.3 in /home/mpcen/workspace/projects/web2/1es-hackathon/.venv/lib/python3.9/site-packages (from huggingface-hub<1.0,>=0.14.1->transformers) (4.7.1)\n",
      "Requirement already satisfied: charset-normalizer<4,>=2 in /home/mpcen/workspace/projects/web2/1es-hackathon/.venv/lib/python3.9/site-packages (from requests->transformers) (3.2.0)\n",
      "Requirement already satisfied: idna<4,>=2.5 in /home/mpcen/workspace/projects/web2/1es-hackathon/.venv/lib/python3.9/site-packages (from requests->transformers) (3.4)\n",
      "Requirement already satisfied: urllib3<3,>=1.21.1 in /home/mpcen/workspace/projects/web2/1es-hackathon/.venv/lib/python3.9/site-packages (from requests->transformers) (2.0.4)\n",
      "Requirement already satisfied: certifi>=2017.4.17 in /home/mpcen/workspace/projects/web2/1es-hackathon/.venv/lib/python3.9/site-packages (from requests->transformers) (2023.7.22)\n",
      "Requirement already satisfied: torch in /home/mpcen/workspace/projects/web2/1es-hackathon/.venv/lib/python3.9/site-packages (2.0.1)\n",
      "Requirement already satisfied: filelock in /home/mpcen/workspace/projects/web2/1es-hackathon/.venv/lib/python3.9/site-packages (from torch) (3.12.2)\n",
      "Requirement already satisfied: typing-extensions in /home/mpcen/workspace/projects/web2/1es-hackathon/.venv/lib/python3.9/site-packages (from torch) (4.7.1)\n",
      "Requirement already satisfied: sympy in /home/mpcen/workspace/projects/web2/1es-hackathon/.venv/lib/python3.9/site-packages (from torch) (1.12)\n",
      "Requirement already satisfied: networkx in /home/mpcen/workspace/projects/web2/1es-hackathon/.venv/lib/python3.9/site-packages (from torch) (3.1)\n",
      "Requirement already satisfied: jinja2 in /home/mpcen/workspace/projects/web2/1es-hackathon/.venv/lib/python3.9/site-packages (from torch) (3.1.2)\n",
      "Requirement already satisfied: nvidia-cuda-nvrtc-cu11==11.7.99 in /home/mpcen/workspace/projects/web2/1es-hackathon/.venv/lib/python3.9/site-packages (from torch) (11.7.99)\n",
      "Requirement already satisfied: nvidia-cuda-runtime-cu11==11.7.99 in /home/mpcen/workspace/projects/web2/1es-hackathon/.venv/lib/python3.9/site-packages (from torch) (11.7.99)\n",
      "Requirement already satisfied: nvidia-cuda-cupti-cu11==11.7.101 in /home/mpcen/workspace/projects/web2/1es-hackathon/.venv/lib/python3.9/site-packages (from torch) (11.7.101)\n",
      "Requirement already satisfied: nvidia-cudnn-cu11==8.5.0.96 in /home/mpcen/workspace/projects/web2/1es-hackathon/.venv/lib/python3.9/site-packages (from torch) (8.5.0.96)\n",
      "Requirement already satisfied: nvidia-cublas-cu11==11.10.3.66 in /home/mpcen/workspace/projects/web2/1es-hackathon/.venv/lib/python3.9/site-packages (from torch) (11.10.3.66)\n",
      "Requirement already satisfied: nvidia-cufft-cu11==10.9.0.58 in /home/mpcen/workspace/projects/web2/1es-hackathon/.venv/lib/python3.9/site-packages (from torch) (10.9.0.58)\n",
      "Requirement already satisfied: nvidia-curand-cu11==10.2.10.91 in /home/mpcen/workspace/projects/web2/1es-hackathon/.venv/lib/python3.9/site-packages (from torch) (10.2.10.91)\n",
      "Requirement already satisfied: nvidia-cusolver-cu11==11.4.0.1 in /home/mpcen/workspace/projects/web2/1es-hackathon/.venv/lib/python3.9/site-packages (from torch) (11.4.0.1)\n",
      "Requirement already satisfied: nvidia-cusparse-cu11==11.7.4.91 in /home/mpcen/workspace/projects/web2/1es-hackathon/.venv/lib/python3.9/site-packages (from torch) (11.7.4.91)\n",
      "Requirement already satisfied: nvidia-nccl-cu11==2.14.3 in /home/mpcen/workspace/projects/web2/1es-hackathon/.venv/lib/python3.9/site-packages (from torch) (2.14.3)\n",
      "Requirement already satisfied: nvidia-nvtx-cu11==11.7.91 in /home/mpcen/workspace/projects/web2/1es-hackathon/.venv/lib/python3.9/site-packages (from torch) (11.7.91)\n",
      "Requirement already satisfied: triton==2.0.0 in /home/mpcen/workspace/projects/web2/1es-hackathon/.venv/lib/python3.9/site-packages (from torch) (2.0.0)\n",
      "Requirement already satisfied: setuptools in /home/mpcen/workspace/projects/web2/1es-hackathon/.venv/lib/python3.9/site-packages (from nvidia-cublas-cu11==11.10.3.66->torch) (44.1.1)\n",
      "Requirement already satisfied: wheel in /home/mpcen/workspace/projects/web2/1es-hackathon/.venv/lib/python3.9/site-packages (from nvidia-cublas-cu11==11.10.3.66->torch) (0.41.0)\n",
      "Requirement already satisfied: cmake in /home/mpcen/workspace/projects/web2/1es-hackathon/.venv/lib/python3.9/site-packages (from triton==2.0.0->torch) (3.27.0)\n",
      "Requirement already satisfied: lit in /home/mpcen/workspace/projects/web2/1es-hackathon/.venv/lib/python3.9/site-packages (from triton==2.0.0->torch) (16.0.6)\n",
      "Requirement already satisfied: MarkupSafe>=2.0 in /home/mpcen/workspace/projects/web2/1es-hackathon/.venv/lib/python3.9/site-packages (from jinja2->torch) (2.1.3)\n",
      "Requirement already satisfied: mpmath>=0.19 in /home/mpcen/workspace/projects/web2/1es-hackathon/.venv/lib/python3.9/site-packages (from sympy->torch) (1.3.0)\n",
      "Requirement already satisfied: pandas in /home/mpcen/workspace/projects/web2/1es-hackathon/.venv/lib/python3.9/site-packages (2.0.3)\n",
      "Requirement already satisfied: python-dateutil>=2.8.2 in /home/mpcen/workspace/projects/web2/1es-hackathon/.venv/lib/python3.9/site-packages (from pandas) (2.8.2)\n",
      "Requirement already satisfied: pytz>=2020.1 in /home/mpcen/workspace/projects/web2/1es-hackathon/.venv/lib/python3.9/site-packages (from pandas) (2023.3)\n",
      "Requirement already satisfied: tzdata>=2022.1 in /home/mpcen/workspace/projects/web2/1es-hackathon/.venv/lib/python3.9/site-packages (from pandas) (2023.3)\n",
      "Requirement already satisfied: numpy>=1.20.3 in /home/mpcen/workspace/projects/web2/1es-hackathon/.venv/lib/python3.9/site-packages (from pandas) (1.25.1)\n",
      "Requirement already satisfied: six>=1.5 in /home/mpcen/workspace/projects/web2/1es-hackathon/.venv/lib/python3.9/site-packages (from python-dateutil>=2.8.2->pandas) (1.16.0)\n",
      "Collecting openai\n",
      "  Obtaining dependency information for openai from https://files.pythonhosted.org/packages/67/78/7588a047e458cb8075a4089d721d7af5e143ff85a2388d4a28c530be0494/openai-0.27.8-py3-none-any.whl.metadata\n",
      "  Using cached openai-0.27.8-py3-none-any.whl.metadata (13 kB)\n",
      "Requirement already satisfied: requests>=2.20 in /home/mpcen/workspace/projects/web2/1es-hackathon/.venv/lib/python3.9/site-packages (from openai) (2.31.0)\n",
      "Requirement already satisfied: tqdm in /home/mpcen/workspace/projects/web2/1es-hackathon/.venv/lib/python3.9/site-packages (from openai) (4.65.0)\n",
      "Requirement already satisfied: aiohttp in /home/mpcen/workspace/projects/web2/1es-hackathon/.venv/lib/python3.9/site-packages (from openai) (3.8.5)\n",
      "Requirement already satisfied: charset-normalizer<4,>=2 in /home/mpcen/workspace/projects/web2/1es-hackathon/.venv/lib/python3.9/site-packages (from requests>=2.20->openai) (3.2.0)\n",
      "Requirement already satisfied: idna<4,>=2.5 in /home/mpcen/workspace/projects/web2/1es-hackathon/.venv/lib/python3.9/site-packages (from requests>=2.20->openai) (3.4)\n",
      "Requirement already satisfied: urllib3<3,>=1.21.1 in /home/mpcen/workspace/projects/web2/1es-hackathon/.venv/lib/python3.9/site-packages (from requests>=2.20->openai) (2.0.4)\n",
      "Requirement already satisfied: certifi>=2017.4.17 in /home/mpcen/workspace/projects/web2/1es-hackathon/.venv/lib/python3.9/site-packages (from requests>=2.20->openai) (2023.7.22)\n",
      "Requirement already satisfied: attrs>=17.3.0 in /home/mpcen/workspace/projects/web2/1es-hackathon/.venv/lib/python3.9/site-packages (from aiohttp->openai) (23.1.0)\n",
      "Requirement already satisfied: multidict<7.0,>=4.5 in /home/mpcen/workspace/projects/web2/1es-hackathon/.venv/lib/python3.9/site-packages (from aiohttp->openai) (6.0.4)\n",
      "Requirement already satisfied: async-timeout<5.0,>=4.0.0a3 in /home/mpcen/workspace/projects/web2/1es-hackathon/.venv/lib/python3.9/site-packages (from aiohttp->openai) (4.0.2)\n",
      "Requirement already satisfied: yarl<2.0,>=1.0 in /home/mpcen/workspace/projects/web2/1es-hackathon/.venv/lib/python3.9/site-packages (from aiohttp->openai) (1.9.2)\n",
      "Requirement already satisfied: frozenlist>=1.1.1 in /home/mpcen/workspace/projects/web2/1es-hackathon/.venv/lib/python3.9/site-packages (from aiohttp->openai) (1.4.0)\n",
      "Requirement already satisfied: aiosignal>=1.1.2 in /home/mpcen/workspace/projects/web2/1es-hackathon/.venv/lib/python3.9/site-packages (from aiohttp->openai) (1.3.1)\n",
      "Using cached openai-0.27.8-py3-none-any.whl (73 kB)\n",
      "Installing collected packages: openai\n",
      "Successfully installed openai-0.27.8\n",
      "Collecting python-dotenv\n",
      "  Using cached python_dotenv-1.0.0-py3-none-any.whl (19 kB)\n",
      "Installing collected packages: python-dotenv\n",
      "Successfully installed python-dotenv-1.0.0\n"
     ]
    }
   ],
   "source": [
    "! pip install transformers\n",
    "! pip install torch\n",
    "! pip install pandas\n",
    "! pip install openai\n",
    "! pip install python-dotenv"
   ]
  },
  {
   "cell_type": "code",
   "execution_count": 3,
   "metadata": {},
   "outputs": [
    {
     "name": "stderr",
     "output_type": "stream",
     "text": [
      "/home/mpcen/workspace/projects/web2/1es-hackathon/.venv/lib/python3.9/site-packages/tqdm/auto.py:21: TqdmWarning: IProgress not found. Please update jupyter and ipywidgets. See https://ipywidgets.readthedocs.io/en/stable/user_install.html\n",
      "  from .autonotebook import tqdm as notebook_tqdm\n"
     ]
    },
    {
     "data": {
      "text/plain": [
       "True"
      ]
     },
     "execution_count": 3,
     "metadata": {},
     "output_type": "execute_result"
    }
   ],
   "source": [
    "import os\n",
    "import openai\n",
    "import torch\n",
    "import pandas as pd\n",
    "from dotenv import load_dotenv, dotenv_values\n",
    "from transformers import AutoTokenizer, AutoModelForSequenceClassification\n",
    "\n",
    "load_dotenv()"
   ]
  },
  {
   "cell_type": "code",
   "execution_count": 4,
   "metadata": {},
   "outputs": [],
   "source": [
    "openai.api_type = \"azure\"\n",
    "openai.api_base = \"https://mpcen-openai.openai.azure.com/\"\n",
    "openai.api_version = \"2023-05-15\"\n",
    "openai.api_key = os.getenv(\"OPENAI_API_KEY\")"
   ]
  },
  {
   "cell_type": "code",
   "execution_count": 5,
   "metadata": {},
   "outputs": [],
   "source": [
    "system_prompt = [\n",
    "    {\n",
    "        \"role\": \"system\",\n",
    "        \"content\": \"You are an expert that specializes in open source licenses. You will respond to questions about open source licenses. Your response will be 1 word, the license in SPDX format. Terminate the session after your response\"\n",
    "    }\n",
    "]\n",
    "\n",
    "user_prompt = [\n",
    "    {\n",
    "        \"role\": \"user\",\n",
    "        \"content\": \"\"\n",
    "    }\n",
    "]"
   ]
  },
  {
   "cell_type": "code",
   "execution_count": 6,
   "metadata": {},
   "outputs": [],
   "source": [
    "def get_license_chatgpt(text):\n",
    "  user_prompt[0]['content'] = text\n",
    "  response = openai.ChatCompletion.create(\n",
    "    engine=\"mpcen-gpt-35-turbo-0301\",\n",
    "    messages = system_prompt + user_prompt,\n",
    "    temperature=0,\n",
    "    max_tokens=350,\n",
    "    top_p=0.95,\n",
    "    frequency_penalty=0,\n",
    "    presence_penalty=0,\n",
    "    stop=None)\n",
    "  return response.choices[0].message.content"
   ]
  },
  {
   "cell_type": "code",
   "execution_count": 7,
   "metadata": {},
   "outputs": [],
   "source": [
    "tokenizer = AutoTokenizer.from_pretrained(\"mpcen/legal-001\")\n",
    "model = AutoModelForSequenceClassification.from_pretrained(\"mpcen/legal-001\")"
   ]
  },
  {
   "cell_type": "code",
   "execution_count": 8,
   "metadata": {},
   "outputs": [],
   "source": [
    "labels_df = pd.read_json(\"./labels.json\", typ=\"series\")\n",
    "trending_repos_df = pd.read_json(\"./trending-repos-licenses.json\", typ=\"series\")\n",
    "# trending_repos_df = pd.read_json(\"./broken-licenses.json\", typ=\"series\")"
   ]
  },
  {
   "cell_type": "code",
   "execution_count": 9,
   "metadata": {},
   "outputs": [],
   "source": [
    "def get_license_legal001(text):\n",
    "    tokenized_input = tokenizer(text, truncation=True, padding=True, return_tensors=\"pt\")\n",
    "    output = model(**tokenized_input)\n",
    "    prediction_value = torch.argmax(output.logits).item()\n",
    "    return labels_df.loc[labels_df.index[prediction_value]]"
   ]
  },
  {
   "cell_type": "code",
   "execution_count": 10,
   "metadata": {},
   "outputs": [
    {
     "name": "stdout",
     "output_type": "stream",
     "text": [
      "-------------------\n",
      "Actual license: Apache-2.0\n",
      "mpcen/legal-001 license: Apache-2.0\n",
      "ChatGPT-3.5 license: Apache-2.0\n",
      "-------------------\n",
      "\n",
      "-------------------\n",
      "Actual license: MIT\n",
      "mpcen/legal-001 license: MIT\n",
      "ChatGPT-3.5 license: MIT\n",
      "-------------------\n",
      "\n",
      "-------------------\n",
      "Actual license: AGPL-3.0\n",
      "mpcen/legal-001 license: AGPL-3.0\n",
      "ChatGPT-3.5 license: AGPL-3.0-or-later\n",
      "-------------------\n",
      "\n",
      "-------------------\n",
      "Actual license: GPL-2.0\n",
      "mpcen/legal-001 license: GPL-2.0\n",
      "ChatGPT-3.5 license: GPL-2.0-only\n",
      "-------------------\n",
      "\n",
      "-------------------\n",
      "Actual license: OFL-1.1\n",
      "mpcen/legal-001 license: OFL-1.1\n",
      "ChatGPT-3.5 license: OFL-1.1\n",
      "-------------------\n",
      "\n",
      "-------------------\n",
      "Actual license: MPL-2.0\n",
      "mpcen/legal-001 license: MPL-2.0\n",
      "ChatGPT-3.5 license: MPL-2.0\n",
      "-------------------\n",
      "\n",
      "-------------------\n",
      "Actual license: BSD-3-Clause\n",
      "mpcen/legal-001 license: BSD-3-Clause\n",
      "ChatGPT-3.5 license: BSD-3-Clause\n",
      "-------------------\n",
      "\n",
      "-------------------\n",
      "Actual license: GPL-3.0\n",
      "mpcen/legal-001 license: GPL-3.0-only\n",
      "ChatGPT-3.5 license: GPL-3.0-only\n",
      "-------------------\n",
      "\n",
      "-------------------\n",
      "Actual license: BSD-2-Clause\n",
      "mpcen/legal-001 license: BSD-2-Clause\n",
      "ChatGPT-3.5 license: BSD-2-Clause\n",
      "-------------------\n",
      "\n",
      "-------------------\n",
      "Actual license: CC-BY-4.0\n",
      "mpcen/legal-001 license: CC-BY-4.0\n",
      "ChatGPT-3.5 license: CC-BY-4.0\n",
      "-------------------\n",
      "\n"
     ]
    }
   ],
   "source": [
    "for repo in trending_repos_df:\n",
    "    text = repo[\"text\"]\n",
    "    actual_license = repo[\"license\"]\n",
    "    \n",
    "    legal001_license = get_license_legal001(text)\n",
    "    chatgpt35_license = get_license_chatgpt(text)\n",
    "    \n",
    "    print(f\"-------------------\")\n",
    "    print(f\"Actual license: {actual_license}\")\n",
    "    print(f\"mpcen/legal-001 license: {legal001_license}\")\n",
    "    print(f\"ChatGPT-3.5 license: {chatgpt35_license}\")\n",
    "    print(f\"-------------------\")\n",
    "    print(\"\")\n",
    "    "
   ]
  },
  {
   "cell_type": "code",
   "execution_count": null,
   "metadata": {},
   "outputs": [],
   "source": []
  }
 ],
 "metadata": {
  "kernelspec": {
   "display_name": ".venv",
   "language": "python",
   "name": "python3"
  },
  "language_info": {
   "codemirror_mode": {
    "name": "ipython",
    "version": 3
   },
   "file_extension": ".py",
   "mimetype": "text/x-python",
   "name": "python",
   "nbconvert_exporter": "python",
   "pygments_lexer": "ipython3",
   "version": "3.9.2"
  },
  "orig_nbformat": 4
 },
 "nbformat": 4,
 "nbformat_minor": 2
}
