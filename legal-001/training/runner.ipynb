{
 "cells": [
  {
   "cell_type": "code",
   "execution_count": 2,
   "metadata": {},
   "outputs": [
    {
     "name": "stdout",
     "output_type": "stream",
     "text": [
      "Requirement already satisfied: torch in /home/mpcen/workspace/projects/web2/1es-hackathon/ai-model/.venv/lib/python3.9/site-packages (2.0.1)\n",
      "Requirement already satisfied: filelock in /home/mpcen/workspace/projects/web2/1es-hackathon/ai-model/.venv/lib/python3.9/site-packages (from torch) (3.12.2)\n",
      "Requirement already satisfied: typing-extensions in /home/mpcen/workspace/projects/web2/1es-hackathon/ai-model/.venv/lib/python3.9/site-packages (from torch) (4.7.1)\n",
      "Requirement already satisfied: sympy in /home/mpcen/workspace/projects/web2/1es-hackathon/ai-model/.venv/lib/python3.9/site-packages (from torch) (1.12)\n",
      "Requirement already satisfied: networkx in /home/mpcen/workspace/projects/web2/1es-hackathon/ai-model/.venv/lib/python3.9/site-packages (from torch) (3.1)\n",
      "Requirement already satisfied: jinja2 in /home/mpcen/workspace/projects/web2/1es-hackathon/ai-model/.venv/lib/python3.9/site-packages (from torch) (3.1.2)\n",
      "Requirement already satisfied: nvidia-cuda-nvrtc-cu11==11.7.99 in /home/mpcen/workspace/projects/web2/1es-hackathon/ai-model/.venv/lib/python3.9/site-packages (from torch) (11.7.99)\n",
      "Requirement already satisfied: nvidia-cuda-runtime-cu11==11.7.99 in /home/mpcen/workspace/projects/web2/1es-hackathon/ai-model/.venv/lib/python3.9/site-packages (from torch) (11.7.99)\n",
      "Requirement already satisfied: nvidia-cuda-cupti-cu11==11.7.101 in /home/mpcen/workspace/projects/web2/1es-hackathon/ai-model/.venv/lib/python3.9/site-packages (from torch) (11.7.101)\n",
      "Requirement already satisfied: nvidia-cudnn-cu11==8.5.0.96 in /home/mpcen/workspace/projects/web2/1es-hackathon/ai-model/.venv/lib/python3.9/site-packages (from torch) (8.5.0.96)\n",
      "Requirement already satisfied: nvidia-cublas-cu11==11.10.3.66 in /home/mpcen/workspace/projects/web2/1es-hackathon/ai-model/.venv/lib/python3.9/site-packages (from torch) (11.10.3.66)\n",
      "Requirement already satisfied: nvidia-cufft-cu11==10.9.0.58 in /home/mpcen/workspace/projects/web2/1es-hackathon/ai-model/.venv/lib/python3.9/site-packages (from torch) (10.9.0.58)\n",
      "Requirement already satisfied: nvidia-curand-cu11==10.2.10.91 in /home/mpcen/workspace/projects/web2/1es-hackathon/ai-model/.venv/lib/python3.9/site-packages (from torch) (10.2.10.91)\n",
      "Requirement already satisfied: nvidia-cusolver-cu11==11.4.0.1 in /home/mpcen/workspace/projects/web2/1es-hackathon/ai-model/.venv/lib/python3.9/site-packages (from torch) (11.4.0.1)\n",
      "Requirement already satisfied: nvidia-cusparse-cu11==11.7.4.91 in /home/mpcen/workspace/projects/web2/1es-hackathon/ai-model/.venv/lib/python3.9/site-packages (from torch) (11.7.4.91)\n",
      "Requirement already satisfied: nvidia-nccl-cu11==2.14.3 in /home/mpcen/workspace/projects/web2/1es-hackathon/ai-model/.venv/lib/python3.9/site-packages (from torch) (2.14.3)\n",
      "Requirement already satisfied: nvidia-nvtx-cu11==11.7.91 in /home/mpcen/workspace/projects/web2/1es-hackathon/ai-model/.venv/lib/python3.9/site-packages (from torch) (11.7.91)\n",
      "Requirement already satisfied: triton==2.0.0 in /home/mpcen/workspace/projects/web2/1es-hackathon/ai-model/.venv/lib/python3.9/site-packages (from torch) (2.0.0)\n",
      "Requirement already satisfied: setuptools in /home/mpcen/workspace/projects/web2/1es-hackathon/ai-model/.venv/lib/python3.9/site-packages (from nvidia-cublas-cu11==11.10.3.66->torch) (44.1.1)\n",
      "Requirement already satisfied: wheel in /home/mpcen/workspace/projects/web2/1es-hackathon/ai-model/.venv/lib/python3.9/site-packages (from nvidia-cublas-cu11==11.10.3.66->torch) (0.40.0)\n",
      "Requirement already satisfied: cmake in /home/mpcen/workspace/projects/web2/1es-hackathon/ai-model/.venv/lib/python3.9/site-packages (from triton==2.0.0->torch) (3.27.0)\n",
      "Requirement already satisfied: lit in /home/mpcen/workspace/projects/web2/1es-hackathon/ai-model/.venv/lib/python3.9/site-packages (from triton==2.0.0->torch) (16.0.6)\n",
      "Requirement already satisfied: MarkupSafe>=2.0 in /home/mpcen/workspace/projects/web2/1es-hackathon/ai-model/.venv/lib/python3.9/site-packages (from jinja2->torch) (2.1.3)\n",
      "Requirement already satisfied: mpmath>=0.19 in /home/mpcen/workspace/projects/web2/1es-hackathon/ai-model/.venv/lib/python3.9/site-packages (from sympy->torch) (1.3.0)\n",
      "Requirement already satisfied: transformers in /home/mpcen/workspace/projects/web2/1es-hackathon/ai-model/.venv/lib/python3.9/site-packages (4.31.0)\n",
      "Requirement already satisfied: filelock in /home/mpcen/workspace/projects/web2/1es-hackathon/ai-model/.venv/lib/python3.9/site-packages (from transformers) (3.12.2)\n",
      "Requirement already satisfied: huggingface-hub<1.0,>=0.14.1 in /home/mpcen/workspace/projects/web2/1es-hackathon/ai-model/.venv/lib/python3.9/site-packages (from transformers) (0.16.4)\n",
      "Requirement already satisfied: numpy>=1.17 in /home/mpcen/workspace/projects/web2/1es-hackathon/ai-model/.venv/lib/python3.9/site-packages (from transformers) (1.25.1)\n",
      "Requirement already satisfied: packaging>=20.0 in /home/mpcen/workspace/projects/web2/1es-hackathon/ai-model/.venv/lib/python3.9/site-packages (from transformers) (23.1)\n",
      "Requirement already satisfied: pyyaml>=5.1 in /home/mpcen/workspace/projects/web2/1es-hackathon/ai-model/.venv/lib/python3.9/site-packages (from transformers) (6.0.1)\n",
      "Requirement already satisfied: regex!=2019.12.17 in /home/mpcen/workspace/projects/web2/1es-hackathon/ai-model/.venv/lib/python3.9/site-packages (from transformers) (2023.6.3)\n",
      "Requirement already satisfied: requests in /home/mpcen/workspace/projects/web2/1es-hackathon/ai-model/.venv/lib/python3.9/site-packages (from transformers) (2.31.0)\n",
      "Requirement already satisfied: tokenizers!=0.11.3,<0.14,>=0.11.1 in /home/mpcen/workspace/projects/web2/1es-hackathon/ai-model/.venv/lib/python3.9/site-packages (from transformers) (0.13.3)\n",
      "Requirement already satisfied: safetensors>=0.3.1 in /home/mpcen/workspace/projects/web2/1es-hackathon/ai-model/.venv/lib/python3.9/site-packages (from transformers) (0.3.1)\n",
      "Requirement already satisfied: tqdm>=4.27 in /home/mpcen/workspace/projects/web2/1es-hackathon/ai-model/.venv/lib/python3.9/site-packages (from transformers) (4.65.0)\n",
      "Requirement already satisfied: fsspec in /home/mpcen/workspace/projects/web2/1es-hackathon/ai-model/.venv/lib/python3.9/site-packages (from huggingface-hub<1.0,>=0.14.1->transformers) (2023.6.0)\n",
      "Requirement already satisfied: typing-extensions>=3.7.4.3 in /home/mpcen/workspace/projects/web2/1es-hackathon/ai-model/.venv/lib/python3.9/site-packages (from huggingface-hub<1.0,>=0.14.1->transformers) (4.7.1)\n",
      "Requirement already satisfied: charset-normalizer<4,>=2 in /home/mpcen/workspace/projects/web2/1es-hackathon/ai-model/.venv/lib/python3.9/site-packages (from requests->transformers) (3.2.0)\n",
      "Requirement already satisfied: idna<4,>=2.5 in /home/mpcen/workspace/projects/web2/1es-hackathon/ai-model/.venv/lib/python3.9/site-packages (from requests->transformers) (3.4)\n",
      "Requirement already satisfied: urllib3<3,>=1.21.1 in /home/mpcen/workspace/projects/web2/1es-hackathon/ai-model/.venv/lib/python3.9/site-packages (from requests->transformers) (2.0.4)\n",
      "Requirement already satisfied: certifi>=2017.4.17 in /home/mpcen/workspace/projects/web2/1es-hackathon/ai-model/.venv/lib/python3.9/site-packages (from requests->transformers) (2023.5.7)\n",
      "Requirement already satisfied: pandas in /home/mpcen/workspace/projects/web2/1es-hackathon/ai-model/.venv/lib/python3.9/site-packages (2.0.3)\n",
      "Requirement already satisfied: python-dateutil>=2.8.2 in /home/mpcen/workspace/projects/web2/1es-hackathon/ai-model/.venv/lib/python3.9/site-packages (from pandas) (2.8.2)\n",
      "Requirement already satisfied: pytz>=2020.1 in /home/mpcen/workspace/projects/web2/1es-hackathon/ai-model/.venv/lib/python3.9/site-packages (from pandas) (2023.3)\n",
      "Requirement already satisfied: tzdata>=2022.1 in /home/mpcen/workspace/projects/web2/1es-hackathon/ai-model/.venv/lib/python3.9/site-packages (from pandas) (2023.3)\n",
      "Requirement already satisfied: numpy>=1.20.3 in /home/mpcen/workspace/projects/web2/1es-hackathon/ai-model/.venv/lib/python3.9/site-packages (from pandas) (1.25.1)\n",
      "Requirement already satisfied: six>=1.5 in /home/mpcen/workspace/projects/web2/1es-hackathon/ai-model/.venv/lib/python3.9/site-packages (from python-dateutil>=2.8.2->pandas) (1.16.0)\n"
     ]
    }
   ],
   "source": [
    "! pip install torch\n",
    "! pip install transformers\n",
    "! pip install pandas\n",
    "\n",
    "import torch\n",
    "import pandas as pd\n",
    "from transformers import AutoTokenizer, AutoModelForSequenceClassification"
   ]
  },
  {
   "cell_type": "code",
   "execution_count": 3,
   "metadata": {},
   "outputs": [
    {
     "name": "stdout",
     "output_type": "stream",
     "text": [
      "{'0': 'ECL-2.0', '1': 'GPL-3.0-only', '2': 'UPL-1.0', '3': 'CC-BY-NC-4.0', '4': 'CC-BY-SA-4.0', '5': 'MIT', '6': 'EUPL-1.1', '7': 'AGPL-3.0', '8': 'EPL-1.0', '9': 'BSD-4-Clause', '10': 'GPL-2.0', '11': 'Zlib', '12': 'OSL-3.0', '13': 'GPL-2.0-only', '14': 'CPAL-1.0', '15': 'CC-BY-NC-SA-4.0', '16': 'CC-BY-4.0', '17': 'Artistic-2.0', '18': 'Apache-2.0', '19': 'GPL-2.0+', '20': 'CC-BY-NC-ND-4.0', '21': 'BSD-3-Clause-Clear', '22': 'GPL-2.0-or-later', '23': 'GPL-3.0', '24': 'LGPL-2.1-or-later', '25': 'EPL-2.0', '26': 'BSL-1.0', '27': 'AGPL-3.0-only', '28': 'BUSL-1.1', '29': 'LGPL-2.1', '30': 'LGPL-3.0-only', '31': 'Beerware', '32': 'OFL-1.1', '33': 'BSD-2-Clause', '34': 'CAL-1.0', '35': 'Unlicense', '36': 'Unicode-DFS-2016', '37': 'CC0-1.0', '38': 'CC-BY-1.0', '39': 'BSD-3-Clause', '40': '0BSD', '41': 'GPL-3.0+', '42': 'WTFPL', '43': 'AGPL-3.0-or-later', '44': 'LGPL-3.0-or-later', '45': 'OGL-UK-3.0', '46': 'SSPL-1.0', '47': 'PolyForm-Noncommercial-1.0.0', '48': 'CC-BY-3.0', '49': 'EUPL-1.2', '50': 'Unicode-TOU', '51': 'LGPL-2.1-only', '52': 'MPL-2.0', '53': 'MITNFA', '54': 'GPL-3.0-or-later', '55': 'CC-BY-NC-3.0', '56': 'CECILL-2.1', '57': 'LGPL-3.0+', '58': 'CC-BY-ND-3.0', '59': 'BSD-2-Clause-FreeBSD', '60': 'CC-BY-NC-SA-3.0', '61': 'Hippocratic-2.1', '62': 'BlueOak-1.0.0', '63': 'ISC', '64': 'BSD-2-Clause-Views', '65': 'MPL-1.1', '66': 'Parity-6.0.0', '67': 'NASA-1.3', '68': 'MulanPSL-2.0', '69': 'NCSA', '70': 'LGPL-3.0', '71': 'MIT-0', '72': 'LGPL-2.1+', '73': 'BSD-2-Clause-Patent', '74': 'Fair', '75': 'Elastic-2.0', '76': 'MS-PL', '77': 'BSD-Source-Code', '78': 'LGPL-2.0+', '79': 'ODbL-1.0', '80': 'OSL-2.0', '81': 'CECILL-C', '82': 'BSD-3-Clause-LBNL', '83': 'CC-BY-SA-2.0', '84': 'MirOS', '85': 'RPL-1.5', '86': 'Apache-1.1', '87': 'CDDL-1.0', '88': 'JSON', '89': 'AML', '90': 'CECILL-B', '91': 'Python-2.0', '92': 'MPL-2.0-no-copyleft-exception', '93': 'IPL-1.0', '94': 'CC-BY-NC-ND-3.0', '95': 'NPOSL-3.0', '96': 'BSD-2-Clause-NetBSD', '97': 'CC-BY-NC-ND-2.0', '98': 'GPL-1.0-only', '99': 'MS-RL', '100': 'SGI-B-2.0', '101': 'zlib-acknowledgement', '102': 'AGPL-1.0', '103': 'AFL-2.0', '104': 'LGPL-2.0', '105': 'SAX-PD', '106': 'BSD-3-Clause-Attribution', '107': 'MIT-feh', '108': 'LGPL-2.0-or-later', '109': 'BSD-3-Clause-No-Nuclear-Warranty', '110': 'CDDL-1.1', '111': 'CPOL-1.02', '112': 'SMPPL', '113': 'GFDL-1.2', '114': 'AFL-2.1', '115': 'Apache-1.0', '116': 'CC-BY-ND-4.0', '117': 'PostgreSQL', '118': 'W3C-20150513', '119': 'AAL', '120': 'BSD-Protection', '121': 'FSFUL', '122': 'CC-BY-NC-SA-2.5', '123': 'APSL-2.0', '124': 'bzip2-1.0.6', '125': 'BSD-1-Clause', '126': 'GPL-3.0-with-autoconf-exception', '127': 'AFL-3.0', '128': 'NLPL', '129': 'ODC-By-1.0', '130': 'CC-BY-NC-SA-2.0', '131': 'X11', '132': 'CC-BY-SA-3.0', '133': 'W3C'}\n"
     ]
    }
   ],
   "source": [
    "df = pd.read_json(\"final-data.json\")\n",
    "df = df[df['license'] != 'OTHER']\n",
    "df = df[df['license'] != 'NOASSERTION']\n",
    "\n",
    "save_dir = './saved_model'\n",
    "\n",
    "legal_tokenizer = AutoTokenizer.from_pretrained(save_dir)\n",
    "legal_model = AutoModelForSequenceClassification.from_pretrained(save_dir)\n",
    "\n",
    "license_df = df['license'].value_counts().to_frame('count').rename_axis('license').reset_index()\n",
    "license_df = df['license'].value_counts().to_frame('count').rename_axis('license').reset_index()\n",
    "unique_license_list = license_df.license.unique().tolist()\n",
    "\n",
    "id2Label = {str(i): label for i, label in enumerate(unique_license_list)}\n",
    "label2id = {label: i for i, label in enumerate(unique_license_list)}\n",
    "\n",
    "\n",
    "\n",
    "def test_license(license_text):\n",
    "    tokenized_input = legal_tokenizer(license_text, truncation=True, padding=True, return_tensors=\"pt\")\n",
    "    output = legal_model(**tokenized_input)\n",
    "    prediction_value = torch.argmax(output.logits).item()\n",
    "    result = id2Label[str(prediction_value)]\n",
    "    return result\n",
    "\n",
    "print(id2Label)"
   ]
  },
  {
   "cell_type": "code",
   "execution_count": 4,
   "metadata": {},
   "outputs": [
    {
     "data": {
      "text/plain": [
       "'Apache-2.0'"
      ]
     },
     "execution_count": 4,
     "metadata": {},
     "output_type": "execute_result"
    }
   ],
   "source": [
    "license_text = \"\"\"\n",
    "apache license version 2.0, january 2004 http://www.apache.org/licenses/ terms and conditions for use, reproduction, and distribution 1. definitions. license shall mean the terms and conditions for use, reproduction, and distribution as defined by sections 1 through 9 of this document. licensor shall mean the copyright owner or entity authorized by the copyright owner that is granting the license. legal entity shall mean the union of the acting entity and all other entities that control, are controlled by, or are under common control with that entity. for the purposes of this definition, control means (i) the power, direct or indirect, to cause the direction or management of such entity, whether by contract or otherwise, or (ii) ownership of fifty percent (50%) or more of the outstanding shares, or (iii) beneficial ownership of such entity. you (or your) shall mean an individual or legal entity exercising permissions granted by this license. source form shall mean the preferred form for making modifications, including but not limited to software source code, documentation source, and configuration files. object form shall mean any form resulting from mechanical transformation or translation of a source form, including but not limited to compiled object code, generated documentation, and conversions to other media types. work shall mean the work of authorship, whether in source or object form, made available under the license, as indicated by a copyright notice that is included in or attached to the work (an example is provided in the appendix below). derivative works shall mean any work, whether in source or object form, that is based on (or derived from) the work and for which the editorial revisions, annotations, elaborations, or other modifications represent, as a whole, an original work of authorship. for the purposes of this license, derivative works shall not include works that remain separable from, or merely link (or bind by name) to the interfaces of, the work and derivative works thereof. contribution shall mean any work of authorship, including the original version of the work and any modifications or additions to that work or derivative works thereof, that is intentionally submitted to licensor for inclusion in the work by the copyright owner or by an individual or legal entity authorized to submit on behalf of the copyright owner. for the purposes of this definition, submitted means any form of electronic, verbal, or written communication sent to the licensor or its representatives, including but not limited to communication on electronic mailing lists, source code control systems, and issue tracking systems that are managed by, or on behalf of, the licensor for the purpose of discussing and improving the work, but excluding communication that is conspicuously marked or otherwise designated in writing by the copyright owner as not a contribution. contributor shall mean licensor and any individual or legal entity on behalf of whom a contribution has been received by licensor and subsequently incorporated within the work. 2. grant of copyright license. subject to the terms and conditions of this license, each contributor hereby grants to you a perpetual, worldwide, non-exclusive, no-charge, royalty-free, irrevocable copyright license to reproduce, prepare derivative works of, publicly display, publicly perform, sublicense, and distribute the work and such derivative works in source or object form. 3. grant of patent license. subject to the terms and conditions of this license, each contributor hereby grants to you a perpetual, worldwide, non-exclusive, no-charge, royalty-free, irrevocable (except as stated in this section) patent license to make, have made, use, offer to sell, sell, import, and otherwise transfer the work, where such license applies only to those patent claims licensable by such contributor that are necessarily infringed by their contribution(s) alone or by combination of their contribution(s) with the work to which such contribution(s) was submitted. if you institute patent litigation against any entity (including a cross-claim or counterclaim in a lawsuit) alleging that the work or a contribution incorporated within the work constitutes direct or contributory patent infringement, then any patent licenses granted to you under this license for that work shall terminate as of the date such litigation is filed. 4. redistribution. you may reproduce and distribute copies of the work or derivative works thereof in any medium, with or without modifications, and in source or object form, provided that you meet the following conditions: (a) you must give any other recipients of the work or derivative works a copy of this license; and (b) you must cause any modified files to carry prominent notices stating that you changed the files; and (c) you must retain, in the source form of any derivative works that you distribute, all copyright, patent, trademark, and attribution notices from the source form of the work, excluding those notices that do not pertain to any part of the derivative works; and (d) if the work includes a notice text file as part of its distribution, then any derivative works that you distribute must include a readable copy of the attribution notices contained within such notice file, excluding those notices that do not pertain to any part of the derivative works, in at least one of the following places: within a notice text file distributed as part of the derivative works; within the source form or documentation, if provided along with the derivative works; or, within a display generated by the derivative works, if and wherever such third-party notices normally appear. the contents of the notice file are for informational purposes only and do not modify the license. you may add your own attribution notices within derivative works that you distribute, alongside or as an addendum to the notice text from the work, provided that such additional attribution notices cannot be construed as modifying the license. you may add your own copyright statement to your modifications and may provide additional or different license terms and conditions for use, reproduction, or distribution of your modifications, or for any such derivative works as a whole, provided your use, reproduction, and distribution of the work otherwise complies with the conditions stated in this license. 5. submission of contributions. unless you explicitly state otherwise, any contribution intentionally submitted for inclusion in the work by you to the licensor shall be under the terms and conditions of this license, without any additional terms or conditions. notwithstanding the above, nothing herein shall supersede or modify the terms of any separate license agreement you may have executed with licensor regarding such contributions. 6. trademarks. this license does not grant permission to use the trade names, trademarks, service marks, or product names of the licensor, except as required for reasonable and customary use in describing the origin of the work and reproducing the content of the notice file. 7. disclaimer of warranty. unless required by applicable law or agreed to in writing, licensor provides the work (and each contributor provides its contributions) on an as is basis, without warranties or conditions of any kind, either express or implied, including, without limitation, any warranties or conditions of title, non-infringement, merchantability, or fitness for a particular purpose. you are solely responsible for determining the appropriateness of using or redistributing the work and assume any risks associated with your exercise of permissions under this license. 8. limitation of liability. in no event and under no legal theory, whether in tort (including negligence), contract, or otherwise, unless required by applicable law (such as deliberate and grossly negligent acts) or agreed to in writing, shall any contributor be liable to you for damages, including any direct, indirect, special, incidental, or consequential damages of any character arising as a result of this license or out of the use or inability to use the work (including but not limited to damages for loss of goodwill, work stoppage, computer failure or malfunction, or any and all other commercial damages or losses), even if such contributor has been advised of the possibility of such damages. 9. accepting warranty or additional liability. while redistributing the work or derivative works thereof, you may choose to offer, and charge a fee for, acceptance of support, warranty, indemnity, or other liability obligations and/or rights consistent with this license. however, in accepting such obligations, you may act only on your own behalf and on your sole responsibility, not on behalf of any other contributor, and only if you agree to indemnify, defend, and hold each contributor harmless for any liability incurred by, or claims asserted against, such contributor by reason of your accepting any such warranty or additional liability. end of terms and conditions appendix: how to apply the apache license to your work. to apply the apache license to your work, attach the following boilerplate notice, with the fields enclosed by brackets [] replaced with your own identifying information. (don't include the brackets!) the text should be enclosed in the appropriate comment syntax for the file format. we also recommend that a file or class name and description of purpose be included on the same printed page as the copyright notice for easier identification within third-party archives. copyright [yyyy] [name of copyright owner] licensed under the apache license, version 2.0 (the license); you may not use this file except in compliance with the license. you may obtain a copy of the license at http://www.apache.org/licenses/license-2.0 unless required by applicable law or agreed to in writing, software distributed under the license is distributed on an as is basis, without warranties or conditions of any kind, either express or implied. see the license for the specific language governing permissions and limitations under the license.\n",
    "\"\"\"\n",
    "\n",
    "test_license(license_text)"
   ]
  },
  {
   "cell_type": "code",
   "execution_count": null,
   "metadata": {},
   "outputs": [],
   "source": []
  }
 ],
 "metadata": {
  "kernelspec": {
   "display_name": ".venv",
   "language": "python",
   "name": "python3"
  },
  "language_info": {
   "codemirror_mode": {
    "name": "ipython",
    "version": 3
   },
   "file_extension": ".py",
   "mimetype": "text/x-python",
   "name": "python",
   "nbconvert_exporter": "python",
   "pygments_lexer": "ipython3",
   "version": "3.9.2"
  },
  "orig_nbformat": 4
 },
 "nbformat": 4,
 "nbformat_minor": 2
}
